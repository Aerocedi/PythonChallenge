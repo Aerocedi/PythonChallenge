{
 "cells": [
  {
   "cell_type": "markdown",
   "metadata": {
    "deletable": false,
    "editable": false,
    "nbgrader": {
     "cell_type": "markdown",
     "checksum": "fa52255f782738d964dd3a5aed9f78cd",
     "grade": false,
     "grade_id": "cell-1ffe418bfa65d758",
     "locked": true,
     "schema_version": 2,
     "solution": false
    }
   },
   "source": [
    "![DSA log](dsalogo-Abuja.png)"
   ]
  },
  {
   "cell_type": "markdown",
   "metadata": {
    "deletable": false,
    "editable": false,
    "nbgrader": {
     "cell_type": "markdown",
     "checksum": "4d1479b0d38167136d07e71a7ba1627e",
     "grade": false,
     "grade_id": "cell-2bda4049eefaa761",
     "locked": true,
     "schema_version": 2,
     "solution": false
    }
   },
   "source": [
    "### Instructions"
   ]
  },
  {
   "cell_type": "markdown",
   "metadata": {
    "deletable": false,
    "editable": false,
    "nbgrader": {
     "cell_type": "markdown",
     "checksum": "70d4e8472626127277a97bde618720e2",
     "grade": false,
     "grade_id": "cell-61b3986f91b32c4c",
     "locked": true,
     "schema_version": 2,
     "solution": false
    }
   },
   "source": [
    "1. Make sure you are using a version of notebook greater than v.3. If you installed Anaconda with python 3 - this is likely to be fine. The next piece of code will check if you have the right version.\n",
    "2. The notebook has both some open test cases that you can use to test the functionality of your code - however it will be run on another set of test cases that you can't from which marks will be awarded. So passing all the tests in this notebook is not a guarantee that you have done things correctly - though its highly probable.\n",
    "3. Also make sure you submit a notebook that doesn't return any errors. One way to ensure this is to run all the cells before you submit the notebook.\n",
    "4. When you are done create a zip file of your notebook and upload that\n",
    "5. For each cell where you see \"YOUR CODE HERE\" delete the return notImplemented statement when you write your code there - don't leave it in the notebook.\n",
    "6. Once you are done, you are done."
   ]
  },
  {
   "cell_type": "markdown",
   "metadata": {
    "deletable": false,
    "editable": false,
    "nbgrader": {
     "cell_type": "markdown",
     "checksum": "53623a42ac7cb86d373ccffe15870d48",
     "grade": false,
     "grade_id": "cell-361ad68f072f9e29",
     "locked": true,
     "schema_version": 2,
     "solution": false
    }
   },
   "source": [
    "## Python Basics"
   ]
  },
  {
   "cell_type": "code",
   "execution_count": 1,
   "metadata": {
    "collapsed": true,
    "deletable": false,
    "editable": false,
    "nbgrader": {
     "cell_type": "code",
     "checksum": "f51030ca396d83636e8a1e32cd9dab46",
     "grade": true,
     "grade_id": "cell-0fc4baabfcf40810",
     "locked": true,
     "points": 1,
     "schema_version": 2,
     "solution": false
    }
   },
   "outputs": [],
   "source": [
    "# Import some stuff that you will use in this notebook\n",
    "from nose.tools import assert_equal\n",
    "import numpy as np\n",
    "import IPython\n",
    "assert IPython.version_info[0] >= 3, \"Your version of IPython is too old, please update it.\""
   ]
  },
  {
   "cell_type": "markdown",
   "metadata": {
    "deletable": false,
    "editable": false,
    "nbgrader": {
     "cell_type": "markdown",
     "checksum": "84f56d4a2803451d6fddf3e499289cb1",
     "grade": false,
     "grade_id": "cell-3981ba86de2d128b",
     "locked": true,
     "schema_version": 2,
     "solution": false
    }
   },
   "source": [
    "#### Question 1\n",
    "\n",
    "Complete the function to output a string which is the concatenation of the inputs to the function"
   ]
  },
  {
   "cell_type": "code",
   "execution_count": 2,
   "metadata": {
    "collapsed": true,
    "deletable": false,
    "nbgrader": {
     "cell_type": "code",
     "checksum": "bc7eef9ef6d88703623ec7ed7b81d8a0",
     "grade": false,
     "grade_id": "cell-cd8089abf6c58ed7",
     "locked": false,
     "schema_version": 2,
     "solution": true
    }
   },
   "outputs": [],
   "source": [
    "def get_string(x,y):\n",
    "    print(\"Value can be letters or numbers\")\n",
    "    a=str(x)\n",
    "    b=str(y)\n",
    "    return a+b\n",
    "    #sraise NotImplementedError()"
   ]
  },
  {
   "cell_type": "code",
   "execution_count": 3,
   "metadata": {
    "deletable": false,
    "editable": false,
    "nbgrader": {
     "cell_type": "code",
     "checksum": "70fd1eed14bb2bf47de1a181f08cee39",
     "grade": true,
     "grade_id": "cell-056d72fe6275f378",
     "locked": true,
     "points": 1,
     "schema_version": 2,
     "solution": false
    }
   },
   "outputs": [
    {
     "name": "stdout",
     "output_type": "stream",
     "text": [
      "Value can be letters or numbers\n",
      "Value can be letters or numbers\n"
     ]
    }
   ],
   "source": [
    "assert_equal(get_string(4,5), '45')\n",
    "assert_equal(get_string('hello','world'), 'helloworld')"
   ]
  },
  {
   "cell_type": "markdown",
   "metadata": {
    "deletable": false,
    "editable": false,
    "nbgrader": {
     "cell_type": "markdown",
     "checksum": "4915fcc9c8ce9c7b1f107c76e85fb380",
     "grade": false,
     "grade_id": "cell-6095cdc4b1c87fa9",
     "locked": true,
     "schema_version": 2,
     "solution": false
    }
   },
   "source": [
    "#### Question 2\n",
    "\n",
    "Complete the function to output the value of $y$ given $x$ and $p$. Function definition is $y = 4 + 5x^p$ <br>\n",
    "**Condition:** If the $x$ is not positive the value of y should be 0"
   ]
  },
  {
   "cell_type": "code",
   "execution_count": 4,
   "metadata": {
    "collapsed": true,
    "deletable": false,
    "nbgrader": {
     "cell_type": "code",
     "checksum": "719441034256ad748045981070c4fafd",
     "grade": false,
     "grade_id": "cell-3468a2b044f2bc45",
     "locked": false,
     "schema_version": 2,
     "solution": true
    }
   },
   "outputs": [],
   "source": [
    "def ypolynomial(x,p):\n",
    "    if x<0:\n",
    "        y=0\n",
    "    else:\n",
    "        y=4+5*((x)**p)\n",
    "    return y"
   ]
  },
  {
   "cell_type": "code",
   "execution_count": 5,
   "metadata": {
    "collapsed": true,
    "deletable": false,
    "editable": false,
    "nbgrader": {
     "cell_type": "code",
     "checksum": "cc4806e032e90aaae7b73a490e20e3dc",
     "grade": true,
     "grade_id": "cell-f557c11ac2b4dcf9",
     "locked": true,
     "points": 2,
     "schema_version": 2,
     "solution": false
    }
   },
   "outputs": [],
   "source": [
    "assert_equal(ypolynomial(3,3), 139)\n",
    "assert_equal(ypolynomial(-2,3), 0)"
   ]
  },
  {
   "cell_type": "markdown",
   "metadata": {},
   "source": [
    "#### Question 3\n",
    "\n",
    "Complete the function to returns <i>'obese'</i> or <i>'not obese'</i> given weight (in Kg) and and height (in meters).  Note: one is obesse if the Body Mass Index (BMI) is greater or equal to 30 and $BMI = \\frac{weight}{height^2}$"
   ]
  },
  {
   "cell_type": "code",
   "execution_count": 6,
   "metadata": {
    "collapsed": true,
    "deletable": false,
    "nbgrader": {
     "cell_type": "code",
     "checksum": "a69a035ceff7244e030b87a897f30405",
     "grade": false,
     "grade_id": "cell-0b75e3e42e7dc6ea",
     "locked": false,
     "schema_version": 2,
     "solution": true
    }
   },
   "outputs": [],
   "source": [
    "def isObesse(weight, height):\n",
    "    #Weight input\n",
    "    wei = float(weight)\n",
    "    #Height input\n",
    "    hei = float(height)\n",
    "    #Validity test\n",
    "    BMI = wei / (hei**2)\n",
    "    if BMI >= 30:\n",
    "        return (\"obese\")\n",
    "    else:\n",
    "        return (\"not obese\")"
   ]
  },
  {
   "cell_type": "code",
   "execution_count": 7,
   "metadata": {
    "collapsed": true,
    "deletable": false,
    "editable": false,
    "nbgrader": {
     "cell_type": "code",
     "checksum": "4a794c741c712c3a16ed02609e9bdd18",
     "grade": true,
     "grade_id": "cell-fc0d92d6e95d3056",
     "locked": true,
     "points": 2,
     "schema_version": 2,
     "solution": false
    }
   },
   "outputs": [],
   "source": [
    "assert_equal(isObesse(80,1.58), 'obese')\n",
    "assert_equal(isObesse(122,2.03), 'not obese' )\n"
   ]
  },
  {
   "cell_type": "markdown",
   "metadata": {
    "deletable": false,
    "editable": false,
    "nbgrader": {
     "cell_type": "markdown",
     "checksum": "df355efd121bab1bbd3ce8cd1135568e",
     "grade": false,
     "grade_id": "cell-2d41107ac33c2789",
     "locked": true,
     "schema_version": 2,
     "solution": false
    }
   },
   "source": [
    "#### Question 4\n",
    "\n",
    "Complete the function to return a list of numbers between 0 and a number $N$ that are perfectly divisible by $p$ (with out leaving a remainder). <br>\n",
    "**Hint**: $N$ should also be inclusive in the numbers being considered. If N is negative use N == 20"
   ]
  },
  {
   "cell_type": "code",
   "execution_count": 8,
   "metadata": {
    "collapsed": true,
    "deletable": false,
    "nbgrader": {
     "cell_type": "code",
     "checksum": "c7bf285afb1c84179a34b6f8beedf845",
     "grade": false,
     "grade_id": "cell-f60c36c52f5521ff",
     "locked": false,
     "schema_version": 2,
     "solution": true
    }
   },
   "outputs": [],
   "source": [
    "def divisibles(N, p):\n",
    "    if N>0:\n",
    "        lis=[]\n",
    "        for i in range(N+1):\n",
    "            dev=i%p\n",
    "            if(dev==0):\n",
    "                lis.append(i)\n",
    "        return (lis)\n",
    "    else:\n",
    "        N=20\n",
    "        lis=[]\n",
    "        for i in range(N+1):\n",
    "            dev=i%p\n",
    "            if(dev==0):\n",
    "                lis.append(i)\n",
    "        return (lis)\n",
    "    #raise NotImplementedError()"
   ]
  },
  {
   "cell_type": "code",
   "execution_count": 9,
   "metadata": {
    "collapsed": true,
    "deletable": false,
    "editable": false,
    "nbgrader": {
     "cell_type": "code",
     "checksum": "15703a6fa15f8ed7b3b667f53727ea8e",
     "grade": true,
     "grade_id": "cell-3b0136dc3012d384",
     "locked": true,
     "points": 2,
     "schema_version": 2,
     "solution": false
    }
   },
   "outputs": [],
   "source": [
    "assert_equal(divisibles(10,2), [0,2,4,6,8,10])\n",
    "assert_equal(divisibles(-10,2), [0,2,4,6,8,10,12,14,16,18,20])"
   ]
  },
  {
   "cell_type": "markdown",
   "metadata": {},
   "source": [
    "#### Question 5\n",
    "Complete the function to output the list, mylist, with duplicate values removed. "
   ]
  },
  {
   "cell_type": "code",
   "execution_count": 10,
   "metadata": {
    "collapsed": true,
    "deletable": false,
    "nbgrader": {
     "cell_type": "code",
     "checksum": "3d7ecba11e1250326e5925056ad1ff53",
     "grade": false,
     "grade_id": "cell-c53babe05da1c87e",
     "locked": false,
     "schema_version": 2,
     "solution": true
    }
   },
   "outputs": [],
   "source": [
    "def removeDuplicates(mylist):\n",
    "    #getting to know every value of the list\n",
    "    for item in mylist:\n",
    "        #Arranging list in  order\n",
    "        mylist.sort()\n",
    "        #Checking the number of multiple occurences\n",
    "        check=mylist.count(item)\n",
    "        if check>1:\n",
    "            #Removing repeated values\n",
    "            mylist.remove(item)\n",
    "    return mylist"
   ]
  },
  {
   "cell_type": "code",
   "execution_count": 11,
   "metadata": {
    "collapsed": true,
    "deletable": false,
    "editable": false,
    "nbgrader": {
     "cell_type": "code",
     "checksum": "1b2b55b07869d03c232273dfdd462969",
     "grade": true,
     "grade_id": "cell-04d54a4e147911ae",
     "locked": true,
     "points": 2,
     "schema_version": 2,
     "solution": false
    }
   },
   "outputs": [],
   "source": [
    "assert_equal(removeDuplicates([1,3,2,3,4]), [1,2,3,4])\n",
    "assert_equal(removeDuplicates([4,1,4,3]), [1,3,4])"
   ]
  },
  {
   "cell_type": "markdown",
   "metadata": {
    "deletable": false,
    "editable": false,
    "nbgrader": {
     "cell_type": "markdown",
     "checksum": "8ad270ad04243df471d4ee17e586ddb8",
     "grade": false,
     "grade_id": "cell-58a84ec1cd03119b",
     "locked": true,
     "schema_version": 2,
     "solution": false
    }
   },
   "source": [
    "#### Question 6\n",
    "\n",
    "Complete the function to output the sum of the last and first numbers in the list. Note if list is empty return 0."
   ]
  },
  {
   "cell_type": "code",
   "execution_count": 12,
   "metadata": {
    "collapsed": true,
    "deletable": false,
    "nbgrader": {
     "cell_type": "code",
     "checksum": "c0b11c66e969fef983c36f5eec778e89",
     "grade": false,
     "grade_id": "cell-767f49260faf257d",
     "locked": false,
     "schema_version": 2,
     "solution": true
    }
   },
   "outputs": [],
   "source": [
    "def sumOfFirstAndLast(listx ):\n",
    "    if listx==[]:\n",
    "        return 0\n",
    "    else:\n",
    "        length=len(listx)\n",
    "        firstnum=listx[0]\n",
    "        lastnum=listx[length-1]\n",
    "        final=firstnum+lastnum\n",
    "    return final"
   ]
  },
  {
   "cell_type": "code",
   "execution_count": 13,
   "metadata": {
    "collapsed": true,
    "deletable": false,
    "editable": false,
    "nbgrader": {
     "cell_type": "code",
     "checksum": "1f7167155c76cff8b9f72fcbc871f73e",
     "grade": true,
     "grade_id": "cell-7f6c59d3fbfd68a1",
     "locked": true,
     "points": 2,
     "schema_version": 2,
     "solution": false
    }
   },
   "outputs": [],
   "source": [
    "assert_equal(sumOfFirstAndLast([3,8,2,12]), 15)\n",
    "assert_equal(sumOfFirstAndLast([4]), 8)\n"
   ]
  },
  {
   "cell_type": "markdown",
   "metadata": {
    "deletable": false,
    "editable": false,
    "nbgrader": {
     "cell_type": "markdown",
     "checksum": "ad4f955c52ebcb69cb3603926025129a",
     "grade": false,
     "grade_id": "cell-9135c29a2d616929",
     "locked": true,
     "schema_version": 2,
     "solution": false
    }
   },
   "source": [
    "#### Below is an sample code that reverses digits in a number. Modify this code, if you find it useful, to to attempt questions 7, 8, 9 and 10. "
   ]
  },
  {
   "cell_type": "code",
   "execution_count": 14,
   "metadata": {
    "collapsed": true,
    "deletable": false,
    "editable": false,
    "nbgrader": {
     "cell_type": "code",
     "checksum": "7f2f29e890a59c134ba86d998da41f59",
     "grade": false,
     "grade_id": "cell-c800d11fbcec1f94",
     "locked": true,
     "schema_version": 2,
     "solution": false
    }
   },
   "outputs": [],
   "source": [
    "def reverseNumber(number):\n",
    "\n",
    "    revnumber = 0\n",
    "    while(number>0):\n",
    "        lastdigit = number%10\n",
    "        revnumber = (revnumber*10)+lastdigit;\n",
    "        number = number//10\n",
    "        \n",
    "    return revnumber"
   ]
  },
  {
   "cell_type": "markdown",
   "metadata": {
    "deletable": false,
    "editable": false,
    "nbgrader": {
     "cell_type": "markdown",
     "checksum": "3309d9269686499d2b6bca357ab7adae",
     "grade": false,
     "grade_id": "cell-f3934f6905cb4ba1",
     "locked": true,
     "schema_version": 2,
     "solution": false
    }
   },
   "source": [
    "#### Question 7\n",
    "\n",
    "Complete the function to output the sum of digits of the input number."
   ]
  },
  {
   "cell_type": "code",
   "execution_count": 15,
   "metadata": {
    "collapsed": true,
    "deletable": false,
    "nbgrader": {
     "cell_type": "code",
     "checksum": "7756fdcdfb97eb1e602acd8d98ccf8e3",
     "grade": false,
     "grade_id": "cell-5151049547ad3052",
     "locked": false,
     "schema_version": 2,
     "solution": true
    },
    "scrolled": true
   },
   "outputs": [],
   "source": [
    "def sumDigits(number):\n",
    "    jon=str(number)\n",
    "    fon=(len(jon))\n",
    "    sumNum=0\n",
    "    for i in range(fon):\n",
    "        sumNum+=int(jon[i]) \n",
    "    return sumNum\n"
   ]
  },
  {
   "cell_type": "code",
   "execution_count": 16,
   "metadata": {
    "collapsed": true,
    "deletable": false,
    "editable": false,
    "nbgrader": {
     "cell_type": "code",
     "checksum": "7c77e28e55edc41cfa098c9faa5c70d4",
     "grade": true,
     "grade_id": "cell-b8753a3bc70a9af4",
     "locked": true,
     "points": 2,
     "schema_version": 2,
     "solution": false
    }
   },
   "outputs": [],
   "source": [
    "assert_equal(sumDigits(1234),10)\n",
    "assert_equal(sumDigits(172034),17)"
   ]
  },
  {
   "cell_type": "markdown",
   "metadata": {
    "deletable": false,
    "editable": false,
    "nbgrader": {
     "cell_type": "markdown",
     "checksum": "26b5fab8c1a9ca3bdd26bbc114dee8c9",
     "grade": false,
     "grade_id": "cell-8b62e6d2991ba330",
     "locked": true,
     "schema_version": 2,
     "solution": false
    }
   },
   "source": [
    "#### Question 8\n",
    "\n",
    "Complete the function to output the sum of even number digits of the input number."
   ]
  },
  {
   "cell_type": "code",
   "execution_count": 17,
   "metadata": {
    "collapsed": true,
    "deletable": false,
    "nbgrader": {
     "cell_type": "code",
     "checksum": "15f2f029cc9e6f812547e52ba857ebf6",
     "grade": false,
     "grade_id": "cell-bbe62c9bb21ac35d",
     "locked": false,
     "schema_version": 2,
     "solution": true
    }
   },
   "outputs": [],
   "source": [
    "def countEvenDigits(number):\n",
    "    start=str(number)\n",
    "    jon=len(start)\n",
    "    count=0\n",
    "    for i in range(jon):\n",
    "        check=start[int(i)]\n",
    "        oriNum=int(check)\n",
    "        if(oriNum%2==0):\n",
    "            count+=1\n",
    "    return count\n",
    "        "
   ]
  },
  {
   "cell_type": "code",
   "execution_count": 18,
   "metadata": {
    "collapsed": true,
    "deletable": false,
    "editable": false,
    "nbgrader": {
     "cell_type": "code",
     "checksum": "b7f92f1fca350565e2ef790396a3f6f9",
     "grade": true,
     "grade_id": "cell-dd57add680b55a32",
     "locked": true,
     "points": 2,
     "schema_version": 2,
     "solution": false
    }
   },
   "outputs": [],
   "source": [
    "assert_equal(countEvenDigits(189156782),4)\n",
    "assert_equal(countEvenDigits(431728564),5)"
   ]
  },
  {
   "cell_type": "markdown",
   "metadata": {
    "deletable": false,
    "editable": false,
    "nbgrader": {
     "cell_type": "markdown",
     "checksum": "d60f138ed9e73b3d622faf614df5ed5c",
     "grade": false,
     "grade_id": "cell-6ab3e515ba4a6e8f",
     "locked": true,
     "schema_version": 2,
     "solution": false
    }
   },
   "source": [
    "#### Question 9\n",
    "\n",
    "Complete the function to output a dictionary with both the sum of even and odd digits with the\n",
    "keys 'even' and 'odd' respectively"
   ]
  },
  {
   "cell_type": "code",
   "execution_count": 19,
   "metadata": {
    "collapsed": true,
    "deletable": false,
    "nbgrader": {
     "cell_type": "code",
     "checksum": "7a26a8c2ed4e27c9309a3030218623be",
     "grade": false,
     "grade_id": "cell-695a2d2fdc6a4b67",
     "locked": false,
     "schema_version": 2,
     "solution": true
    }
   },
   "outputs": [],
   "source": [
    "def countOddEvenDigits(number):\n",
    "   \n",
    "    start=str(number)\n",
    "    jon=len(start)\n",
    "    even=0\n",
    "    odd=0\n",
    "    for i in range(jon):\n",
    "        check=start[int(i)]\n",
    "        oriNum=int(check)\n",
    "        if(oriNum%2==0):\n",
    "            even+=1\n",
    "        if(oriNum%2!=0):\n",
    "            odd+=1\n",
    "    return {\"odd\":odd,\"even\":even}     "
   ]
  },
  {
   "cell_type": "code",
   "execution_count": 20,
   "metadata": {
    "collapsed": true,
    "deletable": false,
    "editable": false,
    "nbgrader": {
     "cell_type": "code",
     "checksum": "489dd7cc363b25ce45075b826dc1f5b0",
     "grade": true,
     "grade_id": "cell-82c5f1e7e19418d6",
     "locked": true,
     "points": 2,
     "schema_version": 2,
     "solution": false
    }
   },
   "outputs": [],
   "source": [
    "assert_equal(countOddEvenDigits(189156782),{'odd':5,'even':4})\n",
    "assert_equal(countOddEvenDigits(431728564),{'odd':4,'even':5})"
   ]
  },
  {
   "cell_type": "markdown",
   "metadata": {},
   "source": [
    "#### Question 10\n",
    "\n",
    "\n",
    "The concept of <a href=\"https://en.wikipedia.org/wiki/Check_digit\">check digit</a> is widely used in identification codes including bank account numbers, International Standard Book Numbers (ISBNs) and Universal Product Codes (UPCs). Check digits are useful in reducing manual input errors in digital applications, as they the codes or numbers with check digits can be validated without any other extra information. This question will focus on ISBN 13 that uses the European Article Number (EAN) 13 barcode specification, described in the image below \n",
    "\n",
    "![ISBN 13 Calculation  Example](ISBN13example.png) [Extracted from Wikipedia]\n",
    "\n",
    "Using the information above complete the function to determine the validity of the ISBN13 and returns 'Valid' or 'Invalid for a valid or invalid ISBN13 respectively.\n"
   ]
  },
  {
   "cell_type": "code",
   "execution_count": 43,
   "metadata": {
    "deletable": false,
    "nbgrader": {
     "cell_type": "code",
     "checksum": "df3419f74b01e4d4e04df4f00a4725da",
     "grade": false,
     "grade_id": "cell-12046f0d6b5bdb38",
     "locked": false,
     "schema_version": 2,
     "solution": true
    }
   },
   "outputs": [
    {
     "data": {
      "text/plain": [
       "'Valid'"
      ]
     },
     "execution_count": 43,
     "metadata": {},
     "output_type": "execute_result"
    }
   ],
   "source": [
    "def verify_ISBN13(ISBN):\n",
    "    isbn=str(ISBN)\n",
    "    conv=isbn[:-1]\n",
    "    num=conv\n",
    "    #conversion to integer\n",
    "    initial=10\n",
    "    #Multiplying with there respective weights\n",
    "    genSum=int(num[0])+3*(int(num[1]))+int(num[2])+3*(int(num[3]))+int(num[4])+3*(int(num[5]))+int(num[6])+3*(int(num[7]))+int(num[8])+3*(int(num[9]))+int(num[10])+3*(int(num[11]))\n",
    "    nominal=genSum%10\n",
    "    lastDigit=initial-nominal\n",
    "    if(lastDigit==10):\n",
    "        lastDigit=0\n",
    "    isb13=num+str(lastDigit)\n",
    "    if isb13==isbn:\n",
    "        return ('Valid')\n",
    "    else:\n",
    "        return ('Invalid')"
   ]
  },
  {
   "cell_type": "code",
   "execution_count": null,
   "metadata": {
    "collapsed": true,
    "deletable": false,
    "editable": false,
    "nbgrader": {
     "cell_type": "code",
     "checksum": "5b8f8366503f679671184765a1ae6c0d",
     "grade": true,
     "grade_id": "cell-47c64fad5b6e1655",
     "locked": true,
     "points": 2,
     "schema_version": 2,
     "solution": false
    }
   },
   "outputs": [],
   "source": [
    "assert_equal(verify_ISBN13(4006381333931), 'Valid')\n",
    "assert_equal(verify_ISBN13(9788175257665), 'Valid')\n",
    "assert_equal(verify_ISBN13(9788175257645), 'Invalid')"
   ]
  }
 ],
 "metadata": {
  "kernelspec": {
   "display_name": "Python 3",
   "language": "python",
   "name": "python3"
  },
  "language_info": {
   "codemirror_mode": {
    "name": "ipython",
    "version": 3
   },
   "file_extension": ".py",
   "mimetype": "text/x-python",
   "name": "python",
   "nbconvert_exporter": "python",
   "pygments_lexer": "ipython3",
   "version": "3.6.3"
  },
  "widgets": {
   "state": {},
   "version": "1.1.2"
  }
 },
 "nbformat": 4,
 "nbformat_minor": 2
}
